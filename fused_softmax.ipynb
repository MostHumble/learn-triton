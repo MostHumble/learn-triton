{
  "nbformat": 4,
  "nbformat_minor": 0,
  "metadata": {
    "colab": {
      "provenance": [],
      "gpuType": "T4",
      "authorship_tag": "ABX9TyN3rsNufijgiLJBwVsdAvT+"
    },
    "kernelspec": {
      "name": "python3",
      "display_name": "Python 3"
    },
    "language_info": {
      "name": "python"
    },
    "accelerator": "GPU"
  },
  "cells": [
    {
      "cell_type": "code",
      "source": [
        "import torch\n",
        "\n",
        "x = torch.arange(1, 10).reshape(3, 3)\n",
        "y = x.T\n",
        "\n",
        "print(\"x::\\n\")\n",
        "print(x, \"\\n\")\n",
        "print(\"x.stride():\", x.stride(), \"\\n\")\n",
        "\n",
        "print(\"=\"*5,\"\\ny = x.T:\\n\")\n",
        "print(y, \"\\n\")\n",
        "print(\"y.stride():\", y.stride())"
      ],
      "metadata": {
        "colab": {
          "base_uri": "https://localhost:8080/"
        },
        "id": "tkLbv_oUrLho",
        "outputId": "54e9e64a-17a8-4fcd-99ad-22b7b085e53d"
      },
      "execution_count": 7,
      "outputs": [
        {
          "output_type": "stream",
          "name": "stdout",
          "text": [
            "x::\n",
            "\n",
            "tensor([[1, 2, 3],\n",
            "        [4, 5, 6],\n",
            "        [7, 8, 9]]) \n",
            "\n",
            "x.stride(): (3, 1) \n",
            "\n",
            "===== \n",
            "y = x.T:\n",
            "\n",
            "tensor([[1, 4, 7],\n",
            "        [2, 5, 8],\n",
            "        [3, 6, 9]]) \n",
            "\n",
            "y.stride(): (1, 3)\n"
          ]
        }
      ]
    },
    {
      "cell_type": "code",
      "source": [
        "import triton\n",
        "import triton.language as tl\n",
        "from triton.runtime import driver"
      ],
      "metadata": {
        "id": "0jyolDB_g-h7"
      },
      "execution_count": 9,
      "outputs": []
    },
    {
      "cell_type": "code",
      "source": [
        "@torch.jit.script\n",
        "def naive_softmax(x):\n",
        "    \"\"\"Compute row-wise softmax of X using native pytorch\n",
        "\n",
        "    We subtract the maximum element in order to avoid overflows. Softmax is invariant to\n",
        "    this shift.\n",
        "    \"\"\"\n",
        "    # read  MN elements ; write M  elements\n",
        "    x_max = x.max(dim=1)[0]\n",
        "    # read MN + M elements ; write MN elements\n",
        "    z = x - x_max[:, None]\n",
        "    # read  MN elements ; write MN elements\n",
        "    numerator = torch.exp(z)\n",
        "    # read  MN elements ; write M  elements\n",
        "    denominator = numerator.sum(dim=1)\n",
        "    # read MN + M elements ; write MN elements\n",
        "    ret = numerator / denominator[:, None]\n",
        "    # in total: read 5MN + 2M elements ; wrote 3MN + 2M elements\n",
        "    return ret"
      ],
      "metadata": {
        "id": "DT_G02GVhzAm"
      },
      "execution_count": 18,
      "outputs": []
    },
    {
      "cell_type": "code",
      "source": [
        "@triton.jit\n",
        "def softmax_kernel(output_ptr, input_ptr, input_row_stride, output_row_stride, n_cols, BLOCK_SIZE: tl.constexpr):\n",
        "    # The rows of the softmax are independent, so we parallelize across those\n",
        "    row_idx = tl.program_id(0)\n",
        "    # The stride represents how much we need to increase the pointer to advance 1 row\n",
        "    # = num columns for *contiguous* 2d matrices\n",
        "    row_start_ptr = input_ptr + row_idx * input_row_stride\n",
        "\n",
        "    # The block size is the next power of two greater than n_cols, so we can fit each\n",
        "    # row in a single block\n",
        "    col_offsets = tl.arange(0, BLOCK_SIZE)\n",
        "    input_ptrs = row_start_ptr + col_offsets\n",
        "\n",
        "    # Load the row into SRAM, using a mask since BLOCK_SIZE may be > than n_cols\n",
        "    # -inf so the exp = 0, and thus the doesn't affect the sum\n",
        "    row = tl.load(input_ptrs, mask=col_offsets < n_cols, other=-float('inf'))\n",
        "\n",
        "    # Subtract maximum for numerical stability\n",
        "    # i.e. to avoid overwflow\n",
        "    row_minus_max = row - tl.max(row, axis=0)\n",
        "\n",
        "    # Note that exponentiation in Triton is fast but approximate (i.e., think __expf in CUDA)\n",
        "    numerator = tl.exp(row_minus_max)\n",
        "    denominator = tl.sum(numerator, axis=0)\n",
        "    softmax_output = numerator / denominator\n",
        "\n",
        "    # Write back output to DRAM\n",
        "    output_row_start_ptr = output_ptr + row_idx * output_row_stride\n",
        "    output_ptrs = output_row_start_ptr + col_offsets\n",
        "    tl.store(output_ptrs, softmax_output, mask=col_offsets < n_cols)"
      ],
      "metadata": {
        "id": "uBmu7WTjtQFP"
      },
      "execution_count": 13,
      "outputs": []
    },
    {
      "cell_type": "code",
      "source": [
        "def softmax(x):\n",
        "    n_rows, n_cols = x.shape\n",
        "    # The block size is the smallest power of two greater than the number of columns in `x`\n",
        "    BLOCK_SIZE = triton.next_power_of_2(n_cols)\n",
        "    # Another trick we can use is to ask the compiler to use more threads per row by\n",
        "    # increasing the number of warps (`num_warps`) over which each row is distributed.\n",
        "    # You will see in the next tutorial how to auto-tune this value in a more natural\n",
        "    # way so you don't have to come up with manual heuristics yourself.\n",
        "    num_warps = 4\n",
        "    if BLOCK_SIZE >= 2048:\n",
        "        num_warps = 8\n",
        "    if BLOCK_SIZE >= 4096:\n",
        "        num_warps = 16\n",
        "    # Allocate output\n",
        "    y = torch.empty_like(x)\n",
        "    # Enqueue kernel. The 1D launch grid is simple: we have one kernel instance per row o\n",
        "    # f the input matrix\n",
        "    softmax_kernel[(n_rows, )](\n",
        "        y,\n",
        "        x,\n",
        "        x.stride(0),\n",
        "        y.stride(0),\n",
        "        n_cols,\n",
        "        num_warps=num_warps,\n",
        "        BLOCK_SIZE=BLOCK_SIZE,\n",
        "    )\n",
        "    return y"
      ],
      "metadata": {
        "id": "K9WzFMdIlcSY"
      },
      "execution_count": 14,
      "outputs": []
    },
    {
      "cell_type": "code",
      "source": [
        "torch.manual_seed(0)\n",
        "x = torch.randn(1823, 781, device='cuda')\n",
        "y_triton = softmax(x)\n",
        "y_torch = torch.softmax(x, axis=1)\n",
        "assert torch.allclose(y_triton, y_torch), (y_triton, y_torch)"
      ],
      "metadata": {
        "id": "4pmZwryRleBk"
      },
      "execution_count": 15,
      "outputs": []
    },
    {
      "cell_type": "code",
      "source": [
        "@triton.testing.perf_report(\n",
        "    triton.testing.Benchmark(\n",
        "        x_names=['N'],  # argument names to use as an x-axis for the plot\n",
        "        x_vals=[128 * i for i in range(2, 100)],  # different possible values for `x_name`\n",
        "        line_arg='provider',  # argument name whose value corresponds to a different line in the plot\n",
        "        line_vals=[\n",
        "            'triton',\n",
        "            'torch-native',\n",
        "            'torch-jit',\n",
        "        ],  # possible values for `line_arg``\n",
        "        line_names=[\n",
        "            \"Triton\",\n",
        "            \"Torch (native)\",\n",
        "            \"Torch (jit)\",\n",
        "        ],  # label name for the lines\n",
        "        styles=[('blue', '-'), ('green', '-'), ('green', '--')],  # line styles\n",
        "        ylabel=\"GB/s\",  # label name for the y-axis\n",
        "        plot_name=\"softmax-performance\",  # name for the plot. Used also as a file name for saving the plot.\n",
        "        args={'M': 4096},  # values for function arguments not in `x_names` and `y_name`\n",
        "    ))\n",
        "def benchmark(M, N, provider):\n",
        "    x = torch.randn(M, N, device='cuda', dtype=torch.float32)\n",
        "    quantiles = [0.5, 0.2, 0.8]\n",
        "    if provider == 'torch-native':\n",
        "        ms, min_ms, max_ms = triton.testing.do_bench(lambda: torch.softmax(x, axis=-1), quantiles=quantiles)\n",
        "    if provider == 'triton':\n",
        "        ms, min_ms, max_ms = triton.testing.do_bench(lambda: softmax(x), quantiles=quantiles)\n",
        "    if provider == 'torch-jit':\n",
        "        ms, min_ms, max_ms = triton.testing.do_bench(lambda: naive_softmax(x), quantiles=quantiles)\n",
        "    gbps = lambda ms: 2 * x.nelement() * x.element_size() * 1e-9 / (ms * 1e-3)\n",
        "    return gbps(ms), gbps(max_ms), gbps(min_ms)\n",
        "\n",
        "\n",
        "benchmark.run(show_plots=True, print_data=True)"
      ],
      "metadata": {
        "colab": {
          "base_uri": "https://localhost:8080/",
          "height": 1000
        },
        "id": "qwwBMylWlf1a",
        "outputId": "b7ecceee-d5f0-4657-c6e9-72e8be2ed89b"
      },
      "execution_count": 19,
      "outputs": [
        {
          "output_type": "display_data",
          "data": {
            "text/plain": [
              "<Figure size 640x480 with 1 Axes>"
            ],
            "image/png": "[encoded data removed]"
          },
          "metadata": {}
        },
        {
          "output_type": "stream",
          "name": "stdout",
          "text": [
            "softmax-performance:\n",
            "          N      Triton  Torch (native)  Torch (jit)\n",
            "0     256.0  153.660028      204.800005    71.859648\n",
            "1     384.0  227.555555      219.428568    72.262429\n",
            "2     512.0  221.032050      217.999176    67.190567\n",
            "3     640.0  226.337417      216.005270    71.165168\n",
            "4     768.0  226.506919      214.461959    75.386501\n",
            "5     896.0  226.908375      211.650280    74.721393\n",
            "6    1024.0  227.555548      212.047718    77.540189\n",
            "7    1152.0  228.724768      146.321997    78.039695\n",
            "8    1280.0  229.870216      160.903509    73.631819\n",
            "9    1408.0  229.365578      174.340022    78.158614\n",
            "10   1536.0  229.682243      183.402983    79.519909\n",
            "11   1664.0  229.517236      192.927532    79.878864\n",
            "12   1792.0  230.066193      205.810680    79.692866\n",
            "13   1920.0  229.441001      213.681111    80.441880\n",
            "14   2048.0  229.196933      222.911566    80.908642\n",
            "15   2176.0  235.243233      228.559238    80.967445\n",
            "16   2304.0  234.674081      232.294214    81.198239\n",
            "17   2432.0  233.246052      237.042444    81.222661\n",
            "18   2560.0  233.921380      240.786264    75.181824\n",
            "19   2688.0  233.481388      240.646266    78.338799\n",
            "20   2816.0  233.450777      241.809984    79.886527\n",
            "21   2944.0  233.188124      242.374655    81.122010\n",
            "22   3072.0  233.068688      243.063509    81.492371\n",
            "23   3200.0  232.834754      242.654022    81.795261\n",
            "24   3328.0  233.288055      242.380655    81.954471\n",
            "25   3456.0  233.224206      242.526311    81.198237\n",
            "26   3584.0  233.009472      243.079614    82.139101\n",
            "27   3712.0  233.009752      242.339057    82.308480\n",
            "28   3840.0  233.003069      242.845844    82.008844\n",
            "29   3968.0  232.843296      243.249034    82.559170\n",
            "30   4096.0  233.062191      243.465612    82.719731\n",
            "31   4224.0  232.185093      175.162531    82.326960\n",
            "32   4352.0  232.433526      182.293918    82.210155\n",
            "33   4480.0  232.120835      173.120499    82.579906\n",
            "34   4608.0  232.454399      181.662470    82.663395\n",
            "35   4736.0  232.341484      187.455612    82.739003\n",
            "36   4864.0  232.375481      205.883600    82.783918\n",
            "37   4992.0  232.038497      224.325089    82.760205\n",
            "38   5120.0  232.624005      234.057151    82.790595\n",
            "39   5248.0  232.397163      234.752401    82.809959\n",
            "40   5376.0  232.054287      240.972817    82.887635\n",
            "41   5504.0  231.966755      241.271223    82.922783\n",
            "42   5632.0  232.312917      242.068796    82.976059\n",
            "43   5760.0  231.757952      241.010090    83.014171\n",
            "44   5888.0  232.061730      242.092432    83.075836\n",
            "45   6016.0  231.780717      241.384891    83.143373\n",
            "46   6144.0  232.062857      242.128075    83.103799\n",
            "47   6272.0  231.759811      241.812055    83.171820\n",
            "48   6400.0  231.674214      242.080384    83.237226\n",
            "49   6528.0  231.527847      241.690356    83.282526\n",
            "50   6656.0  231.520904      242.027765    83.308814\n",
            "51   6784.0  231.390840      241.523366    83.301143\n",
            "52   6912.0  231.697258      241.706381    82.840447\n",
            "53   7040.0  231.691334      241.562840    83.320350\n",
            "54   7168.0  231.408058      241.830257    83.409455\n",
            "55   7296.0  231.060309      241.190088    83.323343\n",
            "56   7424.0  231.266010      241.684163    83.344398\n",
            "57   7552.0  231.195182      241.633805    83.440311\n",
            "58   7680.0  231.266116      241.793088    83.340255\n",
            "59   7808.0  231.013930      240.781539    83.490578\n",
            "60   7936.0  231.223465      241.841064    83.464771\n",
            "61   8064.0  230.883156      241.092437    83.553774\n",
            "62   8192.0  230.773256      239.695051    84.703467\n",
            "63   8320.0  230.732440      188.453061    84.127536\n",
            "64   8448.0  231.368474      192.785158    84.284106\n",
            "65   8576.0  231.689007      186.942779    84.203795\n",
            "66   8704.0  231.335554      192.183526    84.300242\n",
            "67   8832.0  231.279871      187.443641    84.147937\n",
            "68   8960.0  231.435783      189.629631    84.428739\n",
            "69   9088.0  231.541398      187.846671    84.514197\n",
            "70   9216.0  231.215676      190.012972    84.598967\n",
            "71   9344.0  230.183219      189.914178    84.637003\n",
            "72   9472.0  231.095958      192.929309    84.714356\n",
            "73   9600.0  231.113203      192.936422    84.721094\n",
            "74   9728.0  230.953169      196.379977    84.845278\n",
            "75   9856.0  230.887255      196.823993    84.783153\n",
            "76   9984.0  231.057827      198.901110    84.890485\n",
            "77  10112.0  230.989646      200.237628    84.841807\n",
            "78  10240.0  230.745337      202.427808    84.872638\n",
            "79  10368.0  230.758050      202.797066    84.570660\n",
            "80  10496.0  230.882015      205.930109    84.687848\n",
            "81  10624.0  230.765453      206.907242    84.569490\n",
            "82  10752.0  230.915428      209.775134    84.704079\n",
            "83  10880.0  230.569541      209.336922    84.723026\n",
            "84  11008.0  230.741667      211.473877    84.830811\n",
            "85  11136.0  230.487705      212.367107    84.824256\n",
            "86  11264.0  230.862180      216.501545    84.964988\n",
            "87  11392.0  230.459677      214.528345    84.902623\n",
            "88  11520.0  230.424752      215.965720    84.957220\n",
            "89  11648.0  230.355017      217.974271    84.983131\n",
            "90  11776.0  230.478288      223.068258    85.102074\n",
            "91  11904.0  230.363718      221.669124    85.066546\n",
            "92  12032.0  230.372238      225.843296    85.144627\n",
            "93  12160.0  230.450929      225.597246    85.109363\n",
            "94  12288.0  230.490042      203.910548    85.194092\n",
            "95  12416.0  229.982075      208.511422    84.889489\n",
            "96  12544.0  230.454188      205.009192    84.943403\n",
            "97  12672.0  230.183385      203.382813    84.873142\n"
          ]
        }
      ]
    },
    {
      "cell_type": "code",
      "source": [],
      "metadata": {
        "id": "9sTYcU2TtQvv"
      },
      "execution_count": null,
      "outputs": []
    }
  ]
}
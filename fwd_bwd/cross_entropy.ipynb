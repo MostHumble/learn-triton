{
  "nbformat": 4,
  "nbformat_minor": 0,
  "metadata": {
    "colab": {
      "provenance": [],
      "gpuType": "T4"
    },
    "kernelspec": {
      "name": "python3",
      "display_name": "Python 3"
    },
    "language_info": {
      "name": "python"
    },
    "accelerator": "GPU"
  },
  "cells": [
    {
      "cell_type": "code",
      "source": [
        "import torch\n",
        "import triton\n",
        "import triton.language as tl\n",
        "from triton.runtime import driver\n",
        "import tabulate"
      ],
      "metadata": {
        "id": "0jyolDB_g-h7"
      },
      "execution_count": 1,
      "outputs": []
    },
    {
      "cell_type": "code",
      "source": [
        "device = torch.device(\"cuda\" if torch.cuda.is_available() else \"cpu\")"
      ],
      "metadata": {
        "id": "Mv6nDjK7w_yH"
      },
      "execution_count": 2,
      "outputs": []
    },
    {
      "cell_type": "code",
      "source": [
        "@triton.jit\n",
        "def cross_entropy_forward_kernel(\n",
        "    logits_ptr,  # [B, C]\n",
        "    targets_ptr,  # [B] (int)\n",
        "    loss_ptr,     # [B]\n",
        "    stride_batch,\n",
        "    stride_class,\n",
        "    num_classes,\n",
        "    BLOCK_SIZE: tl.constexpr,\n",
        "):\n",
        "    row = tl.program_id(0)  # index over batch\n",
        "    col_offsets = tl.arange(0, BLOCK_SIZE)\n",
        "    mask = col_offsets < num_classes\n",
        "\n",
        "    # pointer to start of row\n",
        "    row_ptr = logits_ptr + row * stride_batch\n",
        "\n",
        "    # load logits\n",
        "    logits = tl.load(row_ptr + col_offsets * stride_class, mask=mask)\n",
        "\n",
        "    # numerical stability trick\n",
        "    max_logit = tl.max(logits, axis=0)\n",
        "    logits = logits - max_logit\n",
        "\n",
        "    exp_logits = tl.exp(logits)\n",
        "    sum_exp = tl.sum(exp_logits, axis=0)\n",
        "    log_sum_exp = tl.log(sum_exp)\n",
        "\n",
        "    target_idx = tl.load(targets_ptr + row)\n",
        "    true_logit = tl.load(row_ptr + target_idx * stride_class)\n",
        "\n",
        "    loss = log_sum_exp - (true_logit - max_logit)\n",
        "    tl.store(loss_ptr + row, loss)"
      ],
      "metadata": {
        "id": "DT_G02GVhzAm"
      },
      "execution_count": 3,
      "outputs": []
    },
    {
      "cell_type": "code",
      "source": [
        "@triton.jit\n",
        "def cross_entropy_backward_kernel(\n",
        "    logits_ptr,\n",
        "    targets_ptr,\n",
        "    grad_loss_ptr,\n",
        "    grad_logits_ptr,\n",
        "    stride_batch,\n",
        "    stride_class,\n",
        "    num_classes,\n",
        "    BLOCK_SIZE: tl.constexpr,\n",
        "):\n",
        "    row = tl.program_id(0)\n",
        "    col_offsets = tl.arange(0, BLOCK_SIZE)\n",
        "    mask = col_offsets < num_classes\n",
        "\n",
        "    row_ptr = logits_ptr + row * stride_batch\n",
        "\n",
        "    logits = tl.load(row_ptr + col_offsets * stride_class, mask=mask)\n",
        "    max_logit = tl.max(logits, axis=0)\n",
        "    logits = logits - max_logit\n",
        "\n",
        "    exp_logits = tl.exp(logits)\n",
        "    sum_exp = tl.sum(exp_logits, axis=0)\n",
        "    softmax = exp_logits / sum_exp\n",
        "\n",
        "    target_idx = tl.load(targets_ptr + row)\n",
        "    grad_loss = tl.load(grad_loss_ptr + row)\n",
        "    grad = softmax\n",
        "    grad = tl.where(col_offsets == target_idx, grad - 1.0, grad)\n",
        "    grad = grad * grad_loss  # chain rule\n",
        "\n",
        "    out_ptr = grad_logits_ptr + row * stride_batch\n",
        "    tl.store(out_ptr + col_offsets * stride_class, grad, mask=mask)"
      ],
      "metadata": {
        "id": "9uyzTuvW7-1D"
      },
      "execution_count": 4,
      "outputs": []
    },
    {
      "cell_type": "code",
      "source": [
        "class CrossEntropyTriton(torch.autograd.Function):\n",
        "    @staticmethod\n",
        "    def forward(ctx, logits, targets):\n",
        "        B, C = logits.shape\n",
        "        logits_ = logits.contiguous()\n",
        "        targets_ = targets.contiguous()\n",
        "\n",
        "        loss = torch.empty(B, device=logits.device, dtype=logits.dtype)\n",
        "        BLOCK_SIZE = triton.next_power_of_2(C)\n",
        "\n",
        "        grid = lambda meta: (B,)\n",
        "\n",
        "        cross_entropy_forward_kernel[grid](\n",
        "            logits_,\n",
        "            targets_,\n",
        "            loss,\n",
        "            logits_.stride(0),\n",
        "            logits_.stride(1),\n",
        "            C,\n",
        "            BLOCK_SIZE=BLOCK_SIZE,\n",
        "        )\n",
        "\n",
        "        ctx.save_for_backward(logits_, targets_, loss)\n",
        "        return loss\n",
        "\n",
        "    @staticmethod\n",
        "    def backward(ctx, grad_output):\n",
        "        logits, targets, loss = ctx.saved_tensors\n",
        "        B, C = logits.shape\n",
        "        grad_logits = torch.empty_like(logits)\n",
        "        BLOCK_SIZE = triton.next_power_of_2(C)\n",
        "\n",
        "        grid = lambda meta: (B,)\n",
        "\n",
        "        cross_entropy_backward_kernel[grid](\n",
        "            logits,\n",
        "            targets,\n",
        "            grad_output.contiguous(),\n",
        "            grad_logits,\n",
        "            logits.stride(0),\n",
        "            logits.stride(1),\n",
        "            C,\n",
        "            BLOCK_SIZE=BLOCK_SIZE,\n",
        "        )\n",
        "\n",
        "        return grad_logits, None  # no grad wrt targets\n"
      ],
      "metadata": {
        "id": "-EInW4JI8q90"
      },
      "execution_count": 6,
      "outputs": []
    },
    {
      "cell_type": "code",
      "source": [
        "class TritonCrossEntropyLoss(torch.nn.Module):\n",
        "    def forward(self, logits, targets):\n",
        "        return CrossEntropyTriton.apply(logits, targets).mean()"
      ],
      "metadata": {
        "id": "mixsHU9cQqIC"
      },
      "execution_count": 8,
      "outputs": []
    },
    {
      "cell_type": "code",
      "source": [
        "logits = torch.randn(4, 10, device='cuda', requires_grad=True)\n",
        "targets = torch.randint(0, 10, (4,), device='cuda')\n",
        "\n",
        "loss_fn = TritonCrossEntropyLoss()\n",
        "loss = loss_fn(logits, targets)\n",
        "loss.backward()\n",
        "\n",
        "# Compare to PyTorch\n",
        "logits_ref = logits.detach().clone().requires_grad_()\n",
        "loss_ref = torch.nn.functional.cross_entropy(logits_ref, targets)\n",
        "loss_ref.backward()\n",
        "\n",
        "loss_diff = abs(loss.item() - loss_ref.item())\n",
        "grad_diff = (logits.grad - logits_ref.grad).abs().max().item()\n",
        "\n",
        "\n",
        "print(\"Loss diff:\", loss_diff)\n",
        "print(\"Grad diff (max):\", grad_diff)"
      ],
      "metadata": {
        "colab": {
          "base_uri": "https://localhost:8080/"
        },
        "id": "YRP7fABB8szD",
        "outputId": "293109d2-1076-4db7-8209-934b8bb76782"
      },
      "execution_count": 11,
      "outputs": [
        {
          "output_type": "stream",
          "name": "stdout",
          "text": [
            "Loss diff: 0.3530852794647217\n",
            "Grad diff (max): 0.02522929757833481\n"
          ]
        }
      ]
    }
  ]
}